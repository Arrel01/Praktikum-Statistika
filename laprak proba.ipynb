{
 "cells": [
  {
   "cell_type": "code",
   "execution_count": 5,
   "id": "20258196-e0e2-4cdf-bd98-c19eb966b302",
   "metadata": {},
   "outputs": [
    {
     "name": "stdout",
     "output_type": "stream",
     "text": [
      "\n",
      "Hasil Kueri:\n",
      "('Diva', 'P', 2020, 170, 15, 'Taman Anggrek\\r')\n",
      "('Manda', 'P', 2020, 165, 60, 'Bekasi\\r')\n",
      "('Rukhy', 'P', 2020, 160, 60, 'Bekasi\\r')\n",
      "('Tya', 'P', 2020, 150, 45, 'Taman Anggrek\\r')\n",
      "('Ica', 'P', 2020, 165, 60, 'Bekasi\\r')\n",
      "('Delia', 'P', 2020, 160, 60, 'Jakbar\\r')\n",
      "('Gita', 'P', 2020, 160, 60, 'Tangsel\\r')\n",
      "('Viky', 'L', 2020, 160, 60, 'Bekasi\\r')\n",
      "('Upo', 'L', 2020, 150, 60, 'Kalteng\\r')\n",
      "('Ibnu', 'L', 2020, 170, 70, 'Tangsel\\r')\n",
      "('Ricky', 'L', 2020, 160, 45, 'Grogol\\r')\n",
      "('Akmal', 'L', 2020, 160, 35, 'Tangerang\\r')\n",
      "('Dhila', 'P', 2020, 155, 60, 'Tangerang\\r')\n",
      "('Noto', 'L', 2020, 170, 45, 'Grogol\\r')\n",
      "('Ricardo', 'L', 2020, 170, 30, 'Jawa\\r')\n",
      "('Alya', 'P', 2020, 170, 60, 'Brunai\\r')\n",
      "('Aldo', 'L', 2020, 170, 70, 'Bekasi\\r')\n",
      "('Riska', 'P', 2020, 160, 15, 'Grogol\\r')\n",
      "('Aldy', 'L', 2020, 160, 25, 'Daan Mogot\\r')\n",
      "('Kresna', 'L', 2020, 165, 70, 'Bekasi\\r')\n"
     ]
    }
   ],
   "source": [
    "import mysql.connector\n",
    "\n",
    "# Membuat koneksi ke MySQL\n",
    "connection = mysql.connector.connect(\n",
    "    host=\"localhost\",\n",
    "    user=\"root\",\n",
    "    password=\"\",\n",
    "    database=\"ps2_fatihul\"\n",
    ")\n",
    "\n",
    "# Membuat objek cursor untuk mengeksekusi kueri\n",
    "cursor = connection.cursor()\n",
    "\n",
    "try:\n",
    "    # Mengeksekusi kueri SQL\n",
    "    my_query = \"SELECT * FROM ps2;\"\n",
    "    cursor.execute(my_query)\n",
    "    \n",
    "    # Mengambil semua hasil kueri\n",
    "    result = cursor.fetchall()\n",
    "    \n",
    "    # Menampilkan hasil kueri\n",
    "    print(\"\\nHasil Kueri:\")\n",
    "    for row in result:\n",
    "        print(row)\n",
    "\n",
    "finally:\n",
    "    # Menutup kursor dan koneksi\n",
    "    cursor.close()\n",
    "    connection.close()"
   ]
  },
  {
   "cell_type": "code",
   "execution_count": 6,
   "id": "d00f368b-b93a-4d78-8b3e-6b33ff37818d",
   "metadata": {},
   "outputs": [
    {
     "ename": "TypeError",
     "evalue": "'NoneType' object is not iterable",
     "output_type": "error",
     "traceback": [
      "\u001b[31m---------------------------------------------------------------------------\u001b[39m",
      "\u001b[31mTypeError\u001b[39m                                 Traceback (most recent call last)",
      "\u001b[36mCell\u001b[39m\u001b[36m \u001b[39m\u001b[32mIn[6]\u001b[39m\u001b[32m, line 3\u001b[39m\n\u001b[32m      1\u001b[39m \u001b[38;5;28;01mimport\u001b[39;00m\u001b[38;5;250m \u001b[39m\u001b[34;01mpandas\u001b[39;00m\u001b[38;5;250m \u001b[39m\u001b[38;5;28;01mas\u001b[39;00m\u001b[38;5;250m \u001b[39m\u001b[34;01mpd\u001b[39;00m\n\u001b[32m      2\u001b[39m \u001b[38;5;66;03m# Mengonversi hasil kueri ke DataFrame Pandas\u001b[39;00m\n\u001b[32m----> \u001b[39m\u001b[32m3\u001b[39m df = pd.DataFrame(result, columns=\u001b[43m[\u001b[49m\u001b[43mdesc\u001b[49m\u001b[43m[\u001b[49m\u001b[32;43m0\u001b[39;49m\u001b[43m]\u001b[49m\u001b[43m \u001b[49m\u001b[38;5;28;43;01mfor\u001b[39;49;00m\u001b[43m \u001b[49m\u001b[43mdesc\u001b[49m\u001b[43m \u001b[49m\u001b[38;5;129;43;01min\u001b[39;49;00m\u001b[43m \u001b[49m\u001b[43mcursor\u001b[49m\u001b[43m.\u001b[49m\u001b[43mdescription\u001b[49m\u001b[43m]\u001b[49m)\n\u001b[32m      5\u001b[39m \u001b[38;5;66;03m# Filter data berdasarkan kondisi yang kompleks\u001b[39;00m\n\u001b[32m      6\u001b[39m df_filtered = df[df[\u001b[33m'\u001b[39m\u001b[33mGender\u001b[39m\u001b[33m'\u001b[39m] == \u001b[33m'\u001b[39m\u001b[33mP\u001b[39m\u001b[33m'\u001b[39m]\n",
      "\u001b[31mTypeError\u001b[39m: 'NoneType' object is not iterable"
     ]
    }
   ],
   "source": [
    "import pandas as pd\n",
    "# Mengonversi hasil kueri ke DataFrame Pandas\n",
    "df = pd.DataFrame(result, columns=[desc[0] for desc in cursor.description])\n",
    "\n",
    "# Filter data berdasarkan kondisi yang kompleks\n",
    "df_filtered = df[df['Gender'] == 'P']\n",
    "\n",
    "# Menampilkan hasil filter\n",
    "print(df_filtered)\n"
   ]
  },
  {
   "cell_type": "code",
   "execution_count": 7,
   "id": "e16a6eeb-57db-458d-b06f-104f86c0c13b",
   "metadata": {},
   "outputs": [
    {
     "name": "stdout",
     "output_type": "stream",
     "text": [
      "     Nama Gender  Angkatan   Tinggi Badan  Waktu Perjalanan  Wilayah Tinggal\n",
      "0    Diva      P      2020            170                15  Taman Anggrek\\r\n",
      "1   Manda      P      2020            165                60         Bekasi\\r\n",
      "2   Rukhy      P      2020            160                60         Bekasi\\r\n",
      "3     Tya      P      2020            150                45  Taman Anggrek\\r\n",
      "4     Ica      P      2020            165                60         Bekasi\\r\n",
      "5   Delia      P      2020            160                60         Jakbar\\r\n",
      "6    Gita      P      2020            160                60        Tangsel\\r\n",
      "12  Dhila      P      2020            155                60      Tangerang\\r\n",
      "15   Alya      P      2020            170                60         Brunai\\r\n",
      "17  Riska      P      2020            160                15         Grogol\\r\n"
     ]
    }
   ],
   "source": [
    "import mysql.connector\n",
    "import pandas as pd\n",
    "\n",
    "# Membuat koneksi ke MySQL\n",
    "connection = mysql.connector.connect(\n",
    "    host=\"localhost\",\n",
    "    user=\"root\",\n",
    "    password=\"\",\n",
    "    database=\"ps2_fatihul\"\n",
    ")\n",
    "\n",
    "# Membuat objek cursor untuk mengeksekusi kueri\n",
    "cursor = connection.cursor()\n",
    "\n",
    "# Menjalankan kueri SQL\n",
    "query = \"SELECT * FROM ps2\"\n",
    "cursor.execute(query)\n",
    "\n",
    "# Mengambil semua hasil kueri\n",
    "result = cursor.fetchall()\n",
    "\n",
    "# Mengambil nama kolom dari tabel\n",
    "columns = [desc[0] for desc in cursor.description]\n",
    "\n",
    "# Mengonversi hasil kueri ke DataFrame Pandas\n",
    "df = pd.DataFrame(result, columns=columns)\n",
    "\n",
    "# Filter data berdasarkan kondisi yang kompleks\n",
    "df_filtered = df[df['Gender'] == 'P']\n",
    "\n",
    "# Menampilkan hasil filter\n",
    "print(df_filtered)\n",
    "\n",
    "# Menutup koneksi\n",
    "cursor.close()\n",
    "connection.close()\n"
   ]
  },
  {
   "cell_type": "code",
   "execution_count": null,
   "id": "457ffc13-6e3f-439e-83a6-792df7fbb811",
   "metadata": {},
   "outputs": [],
   "source": []
  }
 ],
 "metadata": {
  "kernelspec": {
   "display_name": "Python 3 (ipykernel)",
   "language": "python",
   "name": "python3"
  },
  "language_info": {
   "codemirror_mode": {
    "name": "ipython",
    "version": 3
   },
   "file_extension": ".py",
   "mimetype": "text/x-python",
   "name": "python",
   "nbconvert_exporter": "python",
   "pygments_lexer": "ipython3",
   "version": "3.12.6"
  }
 },
 "nbformat": 4,
 "nbformat_minor": 5
}
